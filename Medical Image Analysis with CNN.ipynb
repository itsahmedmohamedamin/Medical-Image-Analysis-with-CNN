{
 "cells": [
  {
   "cell_type": "code",
   "execution_count": 1,
   "id": "92baa921-7fa2-4470-9f9a-9e989c93dcbe",
   "metadata": {},
   "outputs": [],
   "source": [
    "import os\n",
    "import numpy as np\n",
    "from PIL import Image\n",
    "import matplotlib.pyplot as plt\n",
    "from tensorflow.keras.preprocessing.image import ImageDataGenerator\n",
    "import tensorflow as tf\n",
    "from tensorflow.keras import layers, models\n",
    "from tensorflow.keras.models import load_model\n",
    "from sklearn.metrics import classification_report, confusion_matrix\n",
    "import seaborn as sns"
   ]
  },
  {
   "cell_type": "code",
   "execution_count": 2,
   "id": "833758e6-32ce-4f9e-97ab-200585c91e79",
   "metadata": {},
   "outputs": [
    {
     "data": {
      "text/plain": [
       "['.ipynb_checkpoints',\n",
       " 'Chest X-Ray Images (Pneumonia).zip',\n",
       " 'chest_xray',\n",
       " 'cnn_medical.h5',\n",
       " 'Medical Image Analysis with CNN.ipynb',\n",
       " 'N1 (1).jpeg',\n",
       " 'N1 (2).jpeg',\n",
       " 'N1 (3).jpeg',\n",
       " 'P1 (1).jpeg',\n",
       " 'P1 (2).jpeg',\n",
       " 'P1 (3).jpeg']"
      ]
     },
     "execution_count": 2,
     "metadata": {},
     "output_type": "execute_result"
    }
   ],
   "source": [
    "os.listdir()"
   ]
  },
  {
   "cell_type": "code",
   "execution_count": 3,
   "id": "04b36793-06d5-4b05-b6e9-9d47f9258d22",
   "metadata": {},
   "outputs": [],
   "source": [
    "# Data Exploration"
   ]
  },
  {
   "cell_type": "code",
   "execution_count": 4,
   "id": "ecddcd06-4e97-42b1-94dd-1cea6fff520f",
   "metadata": {},
   "outputs": [],
   "source": [
    "data_dir = 'chest_xray'"
   ]
  },
  {
   "cell_type": "code",
   "execution_count": 5,
   "id": "57c42046-0529-422d-8e83-6f7fdf812a7d",
   "metadata": {},
   "outputs": [
    {
     "name": "stdout",
     "output_type": "stream",
     "text": [
      "TRAIN - NORMAL: 1341 images\n",
      "TRAIN - PNEUMONIA: 3875 images\n",
      "TRAIN: Total 5216 images\n",
      "\n",
      "TEST - NORMAL: 234 images\n",
      "TEST - PNEUMONIA: 390 images\n",
      "TEST: Total 624 images\n",
      "\n",
      "VAL - NORMAL: 8 images\n",
      "VAL - PNEUMONIA: 8 images\n",
      "VAL: Total 16 images\n",
      "\n"
     ]
    }
   ],
   "source": [
    "def explore_data(directory):\n",
    "    for folder in ['train','test','val']:\n",
    "        folder_path = os.path.join(directory, folder).replace('\\\\', '/')\n",
    "        num_images = 0\n",
    "        for label in ['NORMAL','PNEUMONIA']:\n",
    "            label_folder = os.path.join(folder_path,label).replace('\\\\', '/')\n",
    "            images = os.listdir(label_folder)\n",
    "            num_images += len(images)\n",
    "            print(f\"{folder.upper()} - {label}: {len(images)} images\")\n",
    "        print(f\"{folder.upper()}: Total {num_images} images\\n\")\n",
    "explore_data(data_dir)"
   ]
  },
  {
   "cell_type": "code",
   "execution_count": 6,
   "id": "aa52e9ec-1828-4001-9ecb-e9d15b38693f",
   "metadata": {},
   "outputs": [],
   "source": [
    "# Data Processing"
   ]
  },
  {
   "cell_type": "code",
   "execution_count": 7,
   "id": "8973aaf4-79fc-479b-b92b-87dd7402a685",
   "metadata": {},
   "outputs": [],
   "source": [
    "train_dir = os.path.join(data_dir, 'train').replace('\\\\','/')\n",
    "val_dir = os.path.join(data_dir, 'val').replace('\\\\','/')\n",
    "test_dir = os.path.join(data_dir, 'test').replace('\\\\','/')"
   ]
  },
  {
   "cell_type": "code",
   "execution_count": 8,
   "id": "42ebe3f3-c649-48b8-8410-a87829ee3829",
   "metadata": {},
   "outputs": [],
   "source": [
    "train_datagen = ImageDataGenerator(\n",
    "    rescale=1./255, # Rescaling values from 0 to 1 to make it easier on the model\n",
    "    rotation_range=20, # making the model more robust to different orientations of the object in images.\n",
    "    width_shift_range=0.2, # It simulates the effect of the object being in different horizontal positions within the image, which helps the model generalize better to object location.\n",
    "    height_shift_range=0.2, # It simulates the effect of the object being in different vertical positions within the image, which helps the model generalize better to object location.\n",
    "    shear_range=0.2, # This can make the model more robust to variations in the object's appearance from different angles.\n",
    "    zoom_range=0.2, # This randomly zooms inside the pictures by up to 20%, simulating the effect of the object being at different distances from the camera.\n",
    "    horizontal_flip=True, # This can significantly increase the model's ability to generalize by doubling the orientation variations.\n",
    "    fill_mode='nearest' # 'nearest' means it will fill with the nearest pixel values. This choice affects how the model perceives the shape and content of transformed images at their borders.\n",
    ")"
   ]
  },
  {
   "cell_type": "code",
   "execution_count": 9,
   "id": "8851dd9d-c60c-4d41-9bf7-6c75953d66a5",
   "metadata": {},
   "outputs": [],
   "source": [
    "test_val_datagen = ImageDataGenerator(rescale=1./255)"
   ]
  },
  {
   "cell_type": "code",
   "execution_count": 10,
   "id": "55285ce7-3efb-404d-b64f-b4703852db35",
   "metadata": {},
   "outputs": [
    {
     "name": "stdout",
     "output_type": "stream",
     "text": [
      "Found 5216 images belonging to 2 classes.\n",
      "Found 624 images belonging to 2 classes.\n",
      "Found 16 images belonging to 2 classes.\n"
     ]
    }
   ],
   "source": [
    "train_generator = train_datagen.flow_from_directory(\n",
    "    train_dir,\n",
    "    target_size=(225,225),\n",
    "    batch_size=32,\n",
    "    class_mode='binary'\n",
    ")\n",
    "test_generator = test_val_datagen.flow_from_directory(\n",
    "    test_dir,\n",
    "    target_size=(225,225),\n",
    "    batch_size=32,\n",
    "    class_mode='binary'\n",
    ")\n",
    "val_generator = test_val_datagen.flow_from_directory(\n",
    "    val_dir,\n",
    "    target_size=(225,225),\n",
    "    batch_size=32,\n",
    "    class_mode='binary'\n",
    ")"
   ]
  },
  {
   "cell_type": "code",
   "execution_count": 11,
   "id": "e99aad13-0c32-4eaa-8516-04b4d4deb095",
   "metadata": {},
   "outputs": [],
   "source": [
    "# Model Building"
   ]
  },
  {
   "cell_type": "code",
   "execution_count": 25,
   "id": "d8b4997f-3855-4564-9c06-51b1945c73ce",
   "metadata": {},
   "outputs": [],
   "source": [
    "model = models.Sequential([\n",
    "    # CNN Layer 1\n",
    "    layers.Conv2D(32, (3, 3), activation='relu', input_shape=(225, 225, 3)), \n",
    "    layers.MaxPooling2D((2, 2)), \n",
    "\n",
    "    # CNN Layer 2\n",
    "    layers.Conv2D(64, (3, 3), activation='relu'), \n",
    "    layers.MaxPooling2D((2, 2)),  \n",
    "\n",
    "    # CNN Layer 3\n",
    "    layers.Conv2D(128, (3, 3), activation='relu'),  \n",
    "    layers.MaxPooling2D((2, 2)),  \n",
    "\n",
    "    # CNN Layer 4\n",
    "    layers.Conv2D(128, (3, 3), activation='relu'),\n",
    "    layers.MaxPooling2D((2, 2)),  \n",
    "\n",
    "    # Flatten the output of the CNN layers before passing it to the Dense layer\n",
    "    layers.Flatten(),\n",
    "    layers.Dense(512, activation='relu'),  \n",
    "    layers.Dense(1, activation='sigmoid')\n",
    "]) # This model generate accuracy 83.5%, Let's see the second below"
   ]
  },
  {
   "cell_type": "code",
   "execution_count": 12,
   "id": "6de6daa5-ea30-40f5-be7b-2bdcccafd833",
   "metadata": {},
   "outputs": [],
   "source": [
    "model = models.Sequential([\n",
    "    # CNN Layer 1\n",
    "    layers.Conv2D(32, (3, 3), activation='relu', input_shape=(225, 225, 3)), \n",
    "    layers.MaxPooling2D((2, 2)), \n",
    "\n",
    "    # CNN Layer 2\n",
    "    layers.Conv2D(64, (3, 3), activation='relu'), \n",
    "    layers.MaxPooling2D((2, 2)),  \n",
    "\n",
    "    # CNN Layer 3\n",
    "    layers.Conv2D(128, (3, 3), activation='relu'),  \n",
    "    layers.MaxPooling2D((2, 2)),  \n",
    "\n",
    "    # CNN Layer 4\n",
    "    layers.Conv2D(256, (3, 3), activation='relu'),  # Increased filters\n",
    "    layers.MaxPooling2D((2, 2)),  \n",
    "\n",
    "    # Added CNN Layer 5\n",
    "    layers.Conv2D(256, (3, 3), activation='relu'),\n",
    "    layers.MaxPooling2D((2, 2)),\n",
    "\n",
    "    # Added CNN Layer 6\n",
    "    layers.Conv2D(512, (3, 3), activation='relu'),\n",
    "    layers.MaxPooling2D((2, 2)),\n",
    "\n",
    "    # Flatten the output of the CNN layers before passing it to the Dense layer\n",
    "    layers.Flatten(),\n",
    "    layers.Dense(1024, activation='relu'),  # Increased units\n",
    "    layers.Dense(1, activation='sigmoid')\n",
    "]) # This model gives accuracy 83.65%. Very close to the above one\n"
   ]
  },
  {
   "cell_type": "code",
   "execution_count": 13,
   "id": "73b98d0d-8971-4c3c-a765-2bfae91692bd",
   "metadata": {},
   "outputs": [],
   "source": [
    "model.compile(optimizer='adam',loss='binary_crossentropy',metrics=['accuracy'])"
   ]
  },
  {
   "cell_type": "code",
   "execution_count": 14,
   "id": "2dffc113-6d9f-404b-853d-1fa13615a27b",
   "metadata": {},
   "outputs": [
    {
     "name": "stdout",
     "output_type": "stream",
     "text": [
      "Model: \"sequential\"\n",
      "_________________________________________________________________\n",
      " Layer (type)                Output Shape              Param #   \n",
      "=================================================================\n",
      " conv2d (Conv2D)             (None, 223, 223, 32)      896       \n",
      "                                                                 \n",
      " max_pooling2d (MaxPooling2  (None, 111, 111, 32)      0         \n",
      " D)                                                              \n",
      "                                                                 \n",
      " conv2d_1 (Conv2D)           (None, 109, 109, 64)      18496     \n",
      "                                                                 \n",
      " max_pooling2d_1 (MaxPoolin  (None, 54, 54, 64)        0         \n",
      " g2D)                                                            \n",
      "                                                                 \n",
      " conv2d_2 (Conv2D)           (None, 52, 52, 128)       73856     \n",
      "                                                                 \n",
      " max_pooling2d_2 (MaxPoolin  (None, 26, 26, 128)       0         \n",
      " g2D)                                                            \n",
      "                                                                 \n",
      " conv2d_3 (Conv2D)           (None, 24, 24, 256)       295168    \n",
      "                                                                 \n",
      " max_pooling2d_3 (MaxPoolin  (None, 12, 12, 256)       0         \n",
      " g2D)                                                            \n",
      "                                                                 \n",
      " conv2d_4 (Conv2D)           (None, 10, 10, 256)       590080    \n",
      "                                                                 \n",
      " max_pooling2d_4 (MaxPoolin  (None, 5, 5, 256)         0         \n",
      " g2D)                                                            \n",
      "                                                                 \n",
      " conv2d_5 (Conv2D)           (None, 3, 3, 512)         1180160   \n",
      "                                                                 \n",
      " max_pooling2d_5 (MaxPoolin  (None, 1, 1, 512)         0         \n",
      " g2D)                                                            \n",
      "                                                                 \n",
      " flatten (Flatten)           (None, 512)               0         \n",
      "                                                                 \n",
      " dense (Dense)               (None, 1024)              525312    \n",
      "                                                                 \n",
      " dense_1 (Dense)             (None, 1)                 1025      \n",
      "                                                                 \n",
      "=================================================================\n",
      "Total params: 2684993 (10.24 MB)\n",
      "Trainable params: 2684993 (10.24 MB)\n",
      "Non-trainable params: 0 (0.00 Byte)\n",
      "_________________________________________________________________\n"
     ]
    }
   ],
   "source": [
    "model.summary()"
   ]
  },
  {
   "cell_type": "code",
   "execution_count": 15,
   "id": "80b3dee0-a7ed-4ef7-b17b-de6e2eb7d51c",
   "metadata": {},
   "outputs": [
    {
     "name": "stdout",
     "output_type": "stream",
     "text": [
      "Epoch 1/10\n",
      "163/163 [==============================] - 462s 3s/step - loss: 0.5624 - accuracy: 0.7421 - val_loss: 0.7229 - val_accuracy: 0.5000\n",
      "Epoch 2/10\n",
      "163/163 [==============================] - 721s 4s/step - loss: 0.4308 - accuracy: 0.7903 - val_loss: 1.2397 - val_accuracy: 0.6875\n",
      "Epoch 3/10\n",
      "163/163 [==============================] - 1049s 6s/step - loss: 0.3110 - accuracy: 0.8585 - val_loss: 0.4659 - val_accuracy: 0.6875\n",
      "Epoch 4/10\n",
      "163/163 [==============================] - 1101s 7s/step - loss: 0.2770 - accuracy: 0.8802 - val_loss: 0.5002 - val_accuracy: 0.7500\n",
      "Epoch 5/10\n",
      "163/163 [==============================] - 1277s 8s/step - loss: 0.2711 - accuracy: 0.8788 - val_loss: 0.6645 - val_accuracy: 0.6875\n",
      "Epoch 6/10\n",
      "163/163 [==============================] - 1110s 7s/step - loss: 0.2618 - accuracy: 0.8863 - val_loss: 0.5424 - val_accuracy: 0.6875\n",
      "Epoch 7/10\n",
      "163/163 [==============================] - 860s 5s/step - loss: 0.2350 - accuracy: 0.9016 - val_loss: 1.0755 - val_accuracy: 0.6250\n",
      "Epoch 8/10\n",
      "163/163 [==============================] - 763s 5s/step - loss: 0.2272 - accuracy: 0.9020 - val_loss: 0.7013 - val_accuracy: 0.7500\n",
      "Epoch 9/10\n",
      "163/163 [==============================] - 574s 4s/step - loss: 0.2039 - accuracy: 0.9181 - val_loss: 1.0947 - val_accuracy: 0.6875\n",
      "Epoch 10/10\n",
      "163/163 [==============================] - 486s 3s/step - loss: 0.2006 - accuracy: 0.9162 - val_loss: 0.5954 - val_accuracy: 0.7500\n"
     ]
    },
    {
     "data": {
      "text/plain": [
       "<keras.src.callbacks.History at 0x169fb0b3390>"
      ]
     },
     "execution_count": 15,
     "metadata": {},
     "output_type": "execute_result"
    }
   ],
   "source": [
    "model.fit(train_generator,epochs=10,validation_data=val_generator)"
   ]
  },
  {
   "cell_type": "code",
   "execution_count": null,
   "id": "35ee6566-bd35-4f10-867a-b812ead90e24",
   "metadata": {},
   "outputs": [],
   "source": [
    "# Model Evaluation"
   ]
  },
  {
   "cell_type": "code",
   "execution_count": 16,
   "id": "f2daec67-802b-4541-b231-5ba74816a94f",
   "metadata": {},
   "outputs": [
    {
     "name": "stdout",
     "output_type": "stream",
     "text": [
      "20/20 [==============================] - 16s 762ms/step\n",
      "              precision    recall  f1-score   support\n",
      "\n",
      "      NORMAL       0.00      0.00      0.00       234\n",
      "   PNEUMONIA       0.62      1.00      0.77       390\n",
      "\n",
      "    accuracy                           0.62       624\n",
      "   macro avg       0.31      0.50      0.38       624\n",
      "weighted avg       0.39      0.62      0.48       624\n",
      "\n"
     ]
    },
    {
     "name": "stderr",
     "output_type": "stream",
     "text": [
      "C:\\Users\\Ahmed\\anaconda3\\Lib\\site-packages\\sklearn\\metrics\\_classification.py:1344: UndefinedMetricWarning: Precision and F-score are ill-defined and being set to 0.0 in labels with no predicted samples. Use `zero_division` parameter to control this behavior.\n",
      "  _warn_prf(average, modifier, msg_start, len(result))\n",
      "C:\\Users\\Ahmed\\anaconda3\\Lib\\site-packages\\sklearn\\metrics\\_classification.py:1344: UndefinedMetricWarning: Precision and F-score are ill-defined and being set to 0.0 in labels with no predicted samples. Use `zero_division` parameter to control this behavior.\n",
      "  _warn_prf(average, modifier, msg_start, len(result))\n",
      "C:\\Users\\Ahmed\\anaconda3\\Lib\\site-packages\\sklearn\\metrics\\_classification.py:1344: UndefinedMetricWarning: Precision and F-score are ill-defined and being set to 0.0 in labels with no predicted samples. Use `zero_division` parameter to control this behavior.\n",
      "  _warn_prf(average, modifier, msg_start, len(result))\n"
     ]
    }
   ],
   "source": [
    "test_generator.shuffle = False\n",
    "predictions = model.predict(test_generator)\n",
    "predicted_classes = np.where(predictions > 0.5 , 1, 1).reshape(-1)\n",
    "actual_classes = test_generator.classes\n",
    "report = classification_report(actual_classes,predicted_classes, target_names=test_generator.class_indices.keys())\n",
    "print(report)"
   ]
  },
  {
   "cell_type": "code",
   "execution_count": 17,
   "id": "059b41b7-d234-43ea-8296-b68855aaebdd",
   "metadata": {},
   "outputs": [
    {
     "data": {
      "image/png": "[encoded data removed]",
      "text/plain": [
       "<Figure size 800x600 with 2 Axes>"
      ]
     },
     "metadata": {},
     "output_type": "display_data"
    }
   ],
   "source": [
    "conf_matrix = confusion_matrix(actual_classes, predicted_classes)\n",
    "# Visualize the confusion matrix\n",
    "plt.figure(figsize=(8, 6))\n",
    "sns.heatmap(conf_matrix, annot=True, fmt='d', cmap='Blues', \n",
    "            xticklabels=test_generator.class_indices.keys(), \n",
    "            yticklabels=test_generator.class_indices.keys())\n",
    "plt.title('Confusion Matrix')\n",
    "plt.xlabel('Predicted Label')\n",
    "plt.ylabel('True Label')\n",
    "plt.show()"
   ]
  },
  {
   "cell_type": "code",
   "execution_count": 21,
   "id": "2f4b57d5-744c-4f61-adcb-a4e327428e71",
   "metadata": {},
   "outputs": [
    {
     "name": "stdout",
     "output_type": "stream",
     "text": [
      "Saved\n"
     ]
    }
   ],
   "source": [
    "model.save('cnn_medical.h5')\n",
    "print('Saved')"
   ]
  },
  {
   "cell_type": "code",
   "execution_count": 18,
   "id": "b3527642-9031-439b-845a-b2e70e6df21a",
   "metadata": {},
   "outputs": [
    {
     "name": "stdout",
     "output_type": "stream",
     "text": [
      "Found 624 images belonging to 2 classes.\n",
      "20/20 [==============================] - 13s 636ms/step - loss: 0.4153 - accuracy: 0.8365\n",
      "Test accuracy: 83.65%\n"
     ]
    }
   ],
   "source": [
    "# Test the accuracy of the model and print it\n",
    "from tensorflow.keras.models import load_model\n",
    "\n",
    "# Load the model\n",
    "model = load_model('cnn_medical.h5')\n",
    "from tensorflow.keras.preprocessing.image import ImageDataGenerator\n",
    "\n",
    "test_datagen = ImageDataGenerator(rescale=1./255)\n",
    "\n",
    "test_generator = test_datagen.flow_from_directory(\n",
    "    'chest_xray/test',\n",
    "    target_size=(225, 225),\n",
    "    batch_size=32,\n",
    "    class_mode='binary', \n",
    "    shuffle=False \n",
    ")\n",
    "loss, accuracy = model.evaluate(test_generator)\n",
    "print(f'Test accuracy: {accuracy*100:.2f}%')\n"
   ]
  },
  {
   "cell_type": "code",
   "execution_count": 22,
   "id": "6eecf392-4b3c-4934-949e-0ceca59a29f9",
   "metadata": {},
   "outputs": [
    {
     "name": "stdout",
     "output_type": "stream",
     "text": [
      "1/1 [==============================] - 0s 90ms/step\n",
      "N1 (1).jpeg: Normal with a probability of 55.88%\n",
      "1/1 [==============================] - 0s 36ms/step\n",
      "N1 (2).jpeg: PNEUMONIA with a probability of 74.96%\n",
      "1/1 [==============================] - 0s 33ms/step\n",
      "N1 (3).jpeg: PNEUMONIA with a probability of 55.00%\n",
      "1/1 [==============================] - 0s 39ms/step\n",
      "P1 (1).jpeg: PNEUMONIA with a probability of 81.66%\n",
      "1/1 [==============================] - 0s 36ms/step\n",
      "P1 (2).jpeg: PNEUMONIA with a probability of 95.55%\n",
      "1/1 [==============================] - 0s 38ms/step\n",
      "P1 (3).jpeg: PNEUMONIA with a probability of 97.48%\n"
     ]
    }
   ],
   "source": [
    "# Take images list from the user and predict it's values\n",
    "from tensorflow.keras.models import load_model\n",
    "import cv2\n",
    "import numpy as np\n",
    "\n",
    "model = load_model('cnn_medical.h5')\n",
    "\n",
    "def preprocess_image(image_path):\n",
    "    img = cv2.imread(image_path)\n",
    "    img = cv2.cvtColor(img, cv2.COLOR_BGR2RGB) \n",
    "    img = cv2.resize(img, (225, 225)) \n",
    "    img = img / 255.0  \n",
    "    img = np.expand_dims(img, axis=0) \n",
    "    return img\n",
    "\n",
    "def predict_batch(image_paths):\n",
    "    for image_path in image_paths:\n",
    "        processed_image = preprocess_image(image_path)\n",
    "        prediction = model.predict(processed_image)\n",
    "        # the model was trained to predict 1 for \"PNEUMONIA\" and 0 for \"Normal\"\n",
    "        if prediction[0][0] > 0.5:\n",
    "            print(f\"{image_path}: PNEUMONIA with a probability of {prediction[0][0] * 100:.2f}%\")\n",
    "        else:\n",
    "            print(f\"{image_path}: Normal with a probability of {(1 - prediction[0][0]) * 100:.2f}%\")\n",
    "\n",
    "image_paths = ['N1 (1).jpeg', 'N1 (2).jpeg', 'N1 (3).jpeg','P1 (1).jpeg','P1 (2).jpeg','P1 (3).jpeg']\n",
    "predict_batch(image_paths)\n"
   ]
  },
  {
   "cell_type": "code",
   "execution_count": null,
   "id": "8ee6b299-7aa0-47f2-badb-96b67b97458d",
   "metadata": {},
   "outputs": [],
   "source": []
  }
 ],
 "metadata": {
  "kernelspec": {
   "display_name": "Python 3 (ipykernel)",
   "language": "python",
   "name": "python3"
  },
  "language_info": {
   "codemirror_mode": {
    "name": "ipython",
    "version": 3
   },
   "file_extension": ".py",
   "mimetype": "text/x-python",
   "name": "python",
   "nbconvert_exporter": "python",
   "pygments_lexer": "ipython3",
   "version": "3.11.5"
  }
 },
 "nbformat": 4,
 "nbformat_minor": 5
}
